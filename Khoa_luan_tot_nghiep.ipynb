{
  "nbformat": 4,
  "nbformat_minor": 0,
  "metadata": {
    "colab": {
      "provenance": [],
      "include_colab_link": true
    },
    "kernelspec": {
      "name": "python3",
      "display_name": "Python 3"
    },
    "language_info": {
      "name": "python"
    }
  },
  "cells": [
    {
      "cell_type": "markdown",
      "metadata": {
        "id": "view-in-github",
        "colab_type": "text"
      },
      "source": [
        "<a href=\"https://colab.research.google.com/github/Heulwen31/Artificial-Intelligence-Pac-Man/blob/master/Khoa_luan_tot_nghiep.ipynb\" target=\"_parent\"><img src=\"https://colab.research.google.com/assets/colab-badge.svg\" alt=\"Open In Colab\"/></a>"
      ]
    },
    {
      "cell_type": "code",
      "source": [
        "from google.colab import drive\n",
        "drive.mount('/content/drive')"
      ],
      "metadata": {
        "colab": {
          "base_uri": "https://localhost:8080/"
        },
        "id": "g9CywhRHoCPI",
        "outputId": "d119f7ab-d8d0-4d9d-9b24-f0b6bb624265"
      },
      "execution_count": null,
      "outputs": [
        {
          "output_type": "stream",
          "name": "stdout",
          "text": [
            "Mounted at /content/drive\n"
          ]
        }
      ]
    },
    {
      "cell_type": "code",
      "execution_count": null,
      "metadata": {
        "id": "T7gPlBfaehR2"
      },
      "outputs": [],
      "source": [
        "# import open3d as o3d\n",
        "import numpy as np\n",
        "import pandas as pd \n",
        "import cv2 as cv\n",
        "import copy\n",
        "import json\n",
        "from skimage import transform\n",
        "import math\n",
        "import pandas as pd"
      ]
    },
    {
      "cell_type": "markdown",
      "source": [
        "# CONSTANT"
      ],
      "metadata": {
        "id": "bDCLEKB6w7xQ"
      }
    },
    {
      "cell_type": "code",
      "source": [
        "FILE_IMAGE_2D = \"/content/drive/MyDrive/image_2d/anh_chup_q68_mk29.jpg\"\n",
        "FILE_POINT_2D_MAPPING = \"/content/drive/MyDrive/point mapping/point_2d.csv\"\n",
        "FILE_POINT_3D_MAPPING = \"/content/drive/MyDrive/point mapping/point_3d.csv\"\n",
        "FILE_OBJ = \"/content/drive/MyDrive/mesh obj/untitled.obj\""
      ],
      "metadata": {
        "id": "JW3b04zyv_u0"
      },
      "execution_count": null,
      "outputs": []
    },
    {
      "cell_type": "markdown",
      "source": [
        "# 2D image processing "
      ],
      "metadata": {
        "id": "UPUKlo7owvyA"
      }
    },
    {
      "cell_type": "code",
      "source": [
        "# read image 2d \n",
        "# input path file of 2d image \n",
        "# output is value rgb of pixel \n",
        "def read_image_2d(file_name):\n",
        "    return cv.cvtColor(cv.imread(file_name), cv.COLOR_BGR2RGB)/255\n",
        "\n",
        "\n",
        "# get color from cordinate 2d image \n",
        "# input is (x, y) and image matrix of color pixel\n",
        "# output is rgb value \n",
        "# return list [a, b, c]\n",
        "def get_color_2d_image_pixel(x, y, image, height, width):\n",
        "    if x < 0 or x > height  or y < 0  or y > width:\n",
        "        return [1.0, 0.0, 0.0]\n",
        "    return image[round(y)][round(x)].tolist()\n",
        "\n",
        "\n",
        "# mapping color to set points mapping 3d to 2d with color from 2d image \n",
        "# input :: ls: list point mapping 3d to 2d, image: list color, height: height of image, width: width of image \n",
        "# output: list color mapping to 3d\n",
        "def get_list_color_mapping(ls, image,height, width):\n",
        "    rs = []\n",
        "    for point in ls:\n",
        "        rs.append(get_color_2d_image_pixel(point[0][0], point[0][1], image, height, width))\n",
        "    return rs"
      ],
      "metadata": {
        "id": "4x3aTdRSw4-3"
      },
      "execution_count": null,
      "outputs": []
    },
    {
      "cell_type": "markdown",
      "source": [
        "# 3D OBJ processing"
      ],
      "metadata": {
        "id": "RiuQixjjx1-2"
      }
    },
    {
      "cell_type": "code",
      "source": [
        "# get list cordinate 3d vertices of OBJ\n",
        "# input: file path of obj\n",
        "# output: list vertices mesh\n",
        "def ls_cordinate_3d_point_vertices(lines):\n",
        "    result = []\n",
        "    for line in lines:\n",
        "        element = line.split()\n",
        "        if len(element) > 0 and element[0] == 'v':\n",
        "            result.append([float(element[1]), float(element[2])])\n",
        "    return result\n",
        "\n",
        "\n",
        "# add color to verties \n",
        "# input: lines is string lines in OBJ file \n",
        "# input: ls_vertices_value is list vertices cordinate of OBJ\n",
        "# output: line with rgb value color.\n",
        "def add_color_vertices(lines, ls_vertices_value):\n",
        "    index = 0\n",
        "    for i in range(len(lines)):\n",
        "        element = lines[i].split()\n",
        "        if len(element) > 0 and element[0] == 'v':\n",
        "            lines[i] = \"{} {} {} {}\\n\".format(lines[i].replace(\"\\n\", \"\"),  ls_vertices_value[index][0], ls_vertices_value[index][1], ls_vertices_value[index][2])\n",
        "            index += 1\n",
        "    return lines\n",
        "\n",
        "\n",
        "# get set point 3d mapping\n",
        "# input: file path \n",
        "# output: list cordinate 3d \n",
        "def get_list_3d_point_mapping(lines):\n",
        "    result = []\n",
        "    for line in lines:\n",
        "        temp = line.split(\";\")\n",
        "        # result.append([float(temp[2]), float(temp[3]), float(temp[4])])\n",
        "        result.append([float(temp[2]), float(temp[3])])\n",
        "    return result\n"
      ],
      "metadata": {
        "id": "pynWmHBTx6oN"
      },
      "execution_count": null,
      "outputs": []
    },
    {
      "cell_type": "markdown",
      "source": [
        "# Transformation matrix "
      ],
      "metadata": {
        "id": "TYQHiAEz08Ci"
      }
    },
    {
      "cell_type": "code",
      "source": [
        "def mapping(ls_3d_cordinate, np_src_point_list, np_dest_point_list):\n",
        "    tform = transform.estimate_transform('projective', np_src_point_list, np_dest_point_list)\n",
        "    np_bboxes = np.array(ls_3d_cordinate)\n",
        "    np_dest_bboxes = []\n",
        "    for poly_points in np_bboxes:\n",
        "        np_dest_bboxes.append(tform(poly_points))\n",
        "    return np_dest_bboxes"
      ],
      "metadata": {
        "id": "A_dyB8aS1DXT"
      },
      "execution_count": null,
      "outputs": []
    },
    {
      "cell_type": "markdown",
      "source": [
        "# Working with file"
      ],
      "metadata": {
        "id": "v9MUMaMZzDuy"
      }
    },
    {
      "cell_type": "code",
      "source": [
        "# get all lines in file obj have length > 0\n",
        "def get_lines_file(file_path):\n",
        "    with open(file_path) as f:\n",
        "        lines = f.readlines()\n",
        "        lines = [x for x in lines if len(x) > 0]\n",
        "        return lines\n",
        "\n",
        "\n",
        "# write file \n",
        "# input: lines with color value in vertices \n",
        "# output: result.obj file\n",
        "def write_add_color_obj(lines) -> None:\n",
        "    text_file = open(\"/content/drive/MyDrive/result obj/result.obj\", \"w\")\n",
        "    for line in lines:\n",
        "        text_file.write(line)\n",
        "    text_file.close()"
      ],
      "metadata": {
        "id": "lHHbW0utzH3v"
      },
      "execution_count": null,
      "outputs": []
    },
    {
      "cell_type": "markdown",
      "source": [
        "# Mapping Color"
      ],
      "metadata": {
        "id": "77u5GQVyfKM-"
      }
    },
    {
      "cell_type": "markdown",
      "source": [
        "# Perpare input"
      ],
      "metadata": {
        "id": "jGGJzAxZyDfB"
      }
    },
    {
      "cell_type": "code",
      "source": [
        "def get_list_cordinate_2d_point(point_2d):\n",
        "    result = []\n",
        "    for i in point_2d[\"region_shape_attributes\"]:\n",
        "        result.append(list(map(int, i.replace('{\"name\":\"point\",\"cx\":', \"\").replace('\"cy\":', '').replace(\"}\", \"\").split(','))))\n",
        "    return result\n",
        "\n",
        "\n",
        "def get_list_cordinate_3d_point(point_3d):\n",
        "    result = []\n",
        "    for i in point_3d['point']:\n",
        "        result.append(list(map(float, i.split(';')[2:4])))\n",
        "    return result\n",
        "\n",
        "\n",
        "point_2d = pd.read_csv(\"/content/drive/MyDrive/point mapping/point_2d.csv\")\n",
        "point_3d = pd.read_csv(\"/content/drive/MyDrive/point mapping/point_3d.csv\")\n",
        "\n",
        "cordinate_2d_point = get_list_cordinate_2d_point(point_2d)\n",
        "cordinate_3d_point = get_list_cordinate_3d_point(point_3d)\n"
      ],
      "metadata": {
        "id": "Cu6R1o3Gxib9"
      },
      "execution_count": null,
      "outputs": []
    },
    {
      "cell_type": "code",
      "source": [
        "lines = get_lines_file(FILE_OBJ)"
      ],
      "metadata": {
        "id": "he4oOZtM4G3z"
      },
      "execution_count": null,
      "outputs": []
    },
    {
      "cell_type": "code",
      "source": [
        "list_cordinate_3d = ls_cordinate_3d_point_vertices(lines)\n",
        "print(len(list_cordinate_3d))"
      ],
      "metadata": {
        "id": "Ad8z249s4XK1",
        "colab": {
          "base_uri": "https://localhost:8080/"
        },
        "outputId": "c83ffd9d-5f5e-440e-e232-2c9f8c701f7e"
      },
      "execution_count": null,
      "outputs": [
        {
          "output_type": "stream",
          "name": "stdout",
          "text": [
            "3318218\n"
          ]
        }
      ]
    },
    {
      "cell_type": "code",
      "source": [
        "image = read_image_2d(FILE_IMAGE_2D)\n",
        "\n",
        "height, width, _ = image.shape"
      ],
      "metadata": {
        "id": "kFnH0FJH38dW"
      },
      "execution_count": null,
      "outputs": []
    },
    {
      "cell_type": "code",
      "source": [
        "print(type(lines))"
      ],
      "metadata": {
        "id": "IcV5ECTCNqrM",
        "outputId": "e926abba-d49e-452f-c6ca-98a6f91d77e0",
        "colab": {
          "base_uri": "https://localhost:8080/"
        }
      },
      "execution_count": null,
      "outputs": [
        {
          "output_type": "stream",
          "name": "stdout",
          "text": [
            "<class 'list'>\n"
          ]
        }
      ]
    },
    {
      "cell_type": "markdown",
      "source": [
        "# Output"
      ],
      "metadata": {
        "id": "HADvrLXXLX9A"
      }
    },
    {
      "cell_type": "code",
      "source": [
        "# mapping_point = mapping(list_cordinate_3d, np.array(cordinate_3d_point),np.array(cordinate_2d_point))\n",
        "# get_list_color = get_list_color_mapping(mapping_point, image, height, width)\n",
        "# lines_color = add_color_vertices(lines, get_list_color)\n",
        "# write_add_color_obj(lines_color)"
      ],
      "metadata": {
        "id": "dRevxKVt3HTv"
      },
      "execution_count": null,
      "outputs": []
    },
    {
      "cell_type": "markdown",
      "source": [
        "# Cải thiện thuật toán mapping \n",
        "\n",
        "\n",
        "*   Chia nhỏ vùng mapping với việc tính toán ma trận mapping trên một diện tích nhỏ hơn \n",
        "*   Điểm tương ứng với vùng nào được ứng với ma trận mapping vùng đó \n",
        "\n"
      ],
      "metadata": {
        "id": "IgTL21wpRu-9"
      }
    },
    {
      "cell_type": "code",
      "source": [
        "# get cordinate from 3 points (ACB)\n",
        "def caculate_coner(a, b, c):\n",
        "    vector_one = [a[0]-c[0], a[1]-c[1]]\n",
        "    vector_two = [b[0]-c[0], b[1]-c[1]]\n",
        "    a = 1.0*(vector_one[0]*vector_two[0]+vector_one[1]*vector_two[1])\n",
        "    b = 1.0*(math.sqrt(vector_one[0]*vector_one[0] + vector_one[1]*vector_one[1])*math.sqrt(vector_two[0]*vector_two[0] + vector_two[1]*vector_two[1]))\n",
        "    if (a/b) > 1 or (a/b) < -1:\n",
        "        return math.acos(1)/(2*math.pi)*360\n",
        "    if b == 0:\n",
        "        return 0\n",
        "    return math.acos(a/b)/(2*math.pi)*360\n",
        "\n",
        "# check point in area \n",
        "def check_point_in_area(area, point):\n",
        "    temp = area.append(area[0])\n",
        "    total_corner = 0\n",
        "    for i in range(len(area)-1):\n",
        "        total_corner += caculate_coner(area[i], area[i+1], point)\n",
        "    if  round(total_corner) == 360 or round(total_corner) == 180 or round(total_corner) == 90:\n",
        "        return True\n",
        "    return False\n",
        "    \n",
        "# get mapping matrix \n",
        "def mapping_matrix(np_src_point_list, np_dest_point_list):\n",
        "    tform = transform.estimate_transform('projective', np_src_point_list, np_dest_point_list)\n",
        "    return tform\n",
        "\n",
        "# list transform matrix \n",
        "def list_mapping_matrix(list_src_point_list, list_dest_point_list):\n",
        "    result = []\n",
        "    for i in range(len(list_src_point_list)):\n",
        "        form = transform.estimate_transform('projective', np.array(list_src_point_list[i]), np.array(list_dest_point_list[i])) \n",
        "        result.append(form)\n",
        "    return result\n",
        "\n",
        "# mapping point function\n",
        "def mapping_2(ls_3d_cordinate, list_src_point_list, list_dest_point_list):\n",
        "    l = len(list_src_point_list)\n",
        "    np_dest_bboxes = []\n",
        "    np_bboxes = np.array(ls_3d_cordinate)\n",
        "    list_mapping_matrix_result = list_mapping_matrix(list_src_point_list, list_dest_point_list)\n",
        "    for point in np_bboxes:\n",
        "        check = False\n",
        "        for i in range(len(list_src_point_list)-1):\n",
        "            if check_point_in_area(list_src_point_list[i][0:4], point):\n",
        "                np_dest_bboxes.append(list_mapping_matrix_result[i](point))\n",
        "                check = True\n",
        "                break\n",
        "        if check == False:\n",
        "                np_dest_bboxes.append(list_mapping_matrix_result[l-1](point))\n",
        "    return np_dest_bboxes\n",
        "\n",
        "# cordinate polygon\n",
        "def set_cordinate_polygon(cordinate_point, set_polygon):\n",
        "    result = []\n",
        "    for polygon in set_polygon:\n",
        "        rs = []\n",
        "        for i in polygon:\n",
        "            rs.append(cordinate_point[i])\n",
        "        result.append(rs)\n",
        "    result.append(cordinate_point)\n",
        "    return result"
      ],
      "metadata": {
        "id": "bIMA165Y7aGW"
      },
      "execution_count": null,
      "outputs": []
    },
    {
      "cell_type": "code",
      "source": [
        "polygon_1 = [0, 1, 3, 2, 4]\n",
        "polygon_2 = [2, 3, 6, 5, 7]\n",
        "polygon_3 = [5, 6, 9, 8, 10]\n",
        "polygon_4 = [8, 9, 12, 11, 13]\n",
        "polygon_5 = [11, 12, 15, 14, 16]\n",
        "polygon_6 = [14, 15, 18, 17, 19]\n",
        "\n",
        "set_polygon = [polygon_1, polygon_2,polygon_3, polygon_4, polygon_5, polygon_6]\n",
        "set_cordinate_polygon_2d = set_cordinate_polygon(cordinate_2d_point, set_polygon)\n",
        "set_cordinate_polygon_3d = set_cordinate_polygon(cordinate_3d_point, set_polygon)"
      ],
      "metadata": {
        "id": "RFKhNJOt_Ksg"
      },
      "execution_count": null,
      "outputs": []
    },
    {
      "cell_type": "code",
      "source": [
        "mapping_point_2 = mapping_2(list_cordinate_3d, set_cordinate_polygon_3d, set_cordinate_polygon_2d)"
      ],
      "metadata": {
        "id": "4-W8H-Sv2b8g"
      },
      "execution_count": null,
      "outputs": []
    },
    {
      "cell_type": "code",
      "source": [
        "color_mapping = get_list_color_mapping(mapping_point_2, image, height, width)"
      ],
      "metadata": {
        "id": "DA2WN2aCmVUC"
      },
      "execution_count": null,
      "outputs": []
    },
    {
      "cell_type": "code",
      "source": [
        "lines_color = add_color_vertices(lines, color_mapping)\n",
        "write_add_color_obj(lines_color)"
      ],
      "metadata": {
        "id": "Ecz2qQndr_tQ"
      },
      "execution_count": null,
      "outputs": []
    },
    {
      "cell_type": "code",
      "source": [],
      "metadata": {
        "id": "5tdmRnrPwhdN"
      },
      "execution_count": null,
      "outputs": []
    }
  ]
}